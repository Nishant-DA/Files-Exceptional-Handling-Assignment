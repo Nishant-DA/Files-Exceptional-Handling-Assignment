{
  "nbformat": 4,
  "nbformat_minor": 0,
  "metadata": {
    "colab": {
      "provenance": []
    },
    "kernelspec": {
      "name": "python3",
      "display_name": "Python 3"
    },
    "language_info": {
      "name": "python"
    }
  },
  "cells": [
    {
      "cell_type": "markdown",
      "source": [
        "**Assignment Questions**"
      ],
      "metadata": {
        "id": "tHSAN7lOmgyp"
      }
    },
    {
      "cell_type": "code",
      "execution_count": null,
      "metadata": {
        "id": "O_8lWjCGmbCg"
      },
      "outputs": [],
      "source": [
        "# 1) What is the difference between interpreted and compiled languages ?\n",
        "\n",
        "# --> Interpreted languages (like Python) execute code line-by-line at runtime. Compiled languages (like C++) are first converted into machine code using a compiler before execution."
      ]
    },
    {
      "cell_type": "code",
      "source": [
        "# 2) What is exception handling in Python ?\n",
        "\n",
        "# --> Exception handling is a way to manage errors using try, except, finally, and else blocks to prevent crashes."
      ],
      "metadata": {
        "id": "00M430LMrc75"
      },
      "execution_count": null,
      "outputs": []
    },
    {
      "cell_type": "code",
      "source": [
        "# 3) What is the purpose of the finally block in exception handling ?\n",
        "\n",
        "# --> The finally block always executes, whether an exception occurs or not. It's used for cleanup tasks like closing files or releasing resources."
      ],
      "metadata": {
        "id": "03US1mxRrjg6"
      },
      "execution_count": null,
      "outputs": []
    },
    {
      "cell_type": "code",
      "source": [
        "# 4) What is logging in Python ?\n",
        "\n",
        "# --> Logging is the process of recording messages during code execution to help with debugging, monitoring, and tracking behavior."
      ],
      "metadata": {
        "id": "WN5nFvE4rqmA"
      },
      "execution_count": null,
      "outputs": []
    },
    {
      "cell_type": "code",
      "source": [
        "# 5) What is the significance of the __del__ method in Python ?\n",
        "\n",
        "# --> __del__ is a destructor method that is called when an object is about to be destroyed, used to clean up resources."
      ],
      "metadata": {
        "id": "BGu5z0m9rxPl"
      },
      "execution_count": null,
      "outputs": []
    },
    {
      "cell_type": "code",
      "source": [
        "# 6) What is the difference between import and from ... import in Python ?\n",
        "\n",
        "# --> import module imports the whole module. | from module import name imports a specific function, class, or variable."
      ],
      "metadata": {
        "id": "0G73If9Fr7SR"
      },
      "execution_count": null,
      "outputs": []
    },
    {
      "cell_type": "code",
      "source": [
        "# 7) How can you handle multiple exceptions in Python ?\n",
        "\n",
        "# --> Use multiple except blocks or group exceptions in a tuple:"
      ],
      "metadata": {
        "id": "UFvfXQO8sE28"
      },
      "execution_count": null,
      "outputs": []
    },
    {
      "cell_type": "code",
      "source": [
        "# 8) What is the purpose of the with statement when handling files in Python ?\n",
        "\n",
        "# --> It ensures the file is automatically closed after its suite finishes, even if an error occurs."
      ],
      "metadata": {
        "id": "Z-aUCHXMsSGj"
      },
      "execution_count": null,
      "outputs": []
    },
    {
      "cell_type": "code",
      "source": [
        "# 9) What is the difference between multithreading and multiprocessing ?\n",
        "\n",
        "# --> Multithreading: Multiple threads share the same memory space. | Multiprocessing: Multiple processes have separate memory, suitable for CPU-bound tasks."
      ],
      "metadata": {
        "id": "nT2ufhHUsaNW"
      },
      "execution_count": null,
      "outputs": []
    },
    {
      "cell_type": "code",
      "source": [
        "# 10) What are the advantages of using logging in a program ?\n",
        "\n",
        "# --> Helps debug errors, monitor execution, keep a record, and separate diagnostic output from regular output."
      ],
      "metadata": {
        "id": "TG04g1C5si0f"
      },
      "execution_count": null,
      "outputs": []
    },
    {
      "cell_type": "code",
      "source": [
        "# 11) What is memory management in Python ?\n",
        "\n",
        "# --> It includes allocating and releasing memory automatically using a private heap and garbage collection."
      ],
      "metadata": {
        "id": "9TrlhALgsog1"
      },
      "execution_count": null,
      "outputs": []
    },
    {
      "cell_type": "code",
      "source": [
        "# 12) What are the basic steps involved in exception handling in Python ?\n",
        "\n",
        "# --> Use try to wrap code, except to catch errors, else for code that runs if no exception, and finally for cleanup."
      ],
      "metadata": {
        "id": "wKyRxiBZsvuG"
      },
      "execution_count": null,
      "outputs": []
    },
    {
      "cell_type": "code",
      "source": [
        "# 13) Why is memory management important in Python ?\n",
        "\n",
        "# --> Efficient memory use prevents leaks and ensures your application runs reliably and performs well."
      ],
      "metadata": {
        "id": "5XIzKaEqs3jb"
      },
      "execution_count": null,
      "outputs": []
    },
    {
      "cell_type": "code",
      "source": [
        "# 14) What is the role of try and except in exception handling ?\n",
        "\n",
        "# --> try wraps code that might fail. except defines how to respond if an exception occurs."
      ],
      "metadata": {
        "id": "BBRzU4Lqs-Vt"
      },
      "execution_count": null,
      "outputs": []
    },
    {
      "cell_type": "code",
      "source": [
        "# 15) How does Python's garbage collection system work ?\n",
        "\n",
        "# --> Python uses reference counting and a cyclic garbage collector to reclaim memory from unused objects."
      ],
      "metadata": {
        "id": "oeZyMbZJtD_M"
      },
      "execution_count": null,
      "outputs": []
    },
    {
      "cell_type": "code",
      "source": [
        "# 16) What is the purpose of the else block in exception handling ?\n",
        "\n",
        "# --> Code in else runs only if no exception occurs in the try block."
      ],
      "metadata": {
        "id": "m_KqLzUktLK7"
      },
      "execution_count": null,
      "outputs": []
    },
    {
      "cell_type": "code",
      "source": [
        "# 17) What are the common logging levels in Python ?\n",
        "\n",
        "# --> DEBUG, INFO, WARNING, ERROR, CRITICAL"
      ],
      "metadata": {
        "id": "pZJqoP_TtTz9"
      },
      "execution_count": null,
      "outputs": []
    },
    {
      "cell_type": "code",
      "source": [
        "# 18) What is the difference between os.fork() and multiprocessing in Python ?\n",
        "\n",
        "# --> os.fork() creates a child process (Unix only). multiprocessing is a cross-platform module that handles process creation and communication."
      ],
      "metadata": {
        "id": "nXMOykLctd3O"
      },
      "execution_count": null,
      "outputs": []
    },
    {
      "cell_type": "code",
      "source": [
        "# 19) What is the importance of closing a file in Python ?\n",
        "\n",
        "# --> It ensures all data is written, frees up system resources, and avoids file corruption."
      ],
      "metadata": {
        "id": "XOfBiZsFtlVE"
      },
      "execution_count": null,
      "outputs": []
    },
    {
      "cell_type": "code",
      "source": [
        "# 20) What is the difference between file.read() and file.readline() in Python ?\n",
        "\n",
        "# --> read() reads the entire file. | readline() reads a single line from the file."
      ],
      "metadata": {
        "id": "F3HRxi51tsBX"
      },
      "execution_count": null,
      "outputs": []
    },
    {
      "cell_type": "code",
      "source": [
        "# 21) What is the logging module in Python used for ?\n",
        "\n",
        "# --> It’s used to record log messages in your application at different severity levels."
      ],
      "metadata": {
        "id": "mslinPxZt06b"
      },
      "execution_count": null,
      "outputs": []
    },
    {
      "cell_type": "code",
      "source": [
        "# 22) What is the os module in Python used for in file handling ?\n",
        "\n",
        "# --> It helps interact with the operating system for tasks like file removal, renaming, directory creation, etc."
      ],
      "metadata": {
        "id": "_qkPCjAJt7XM"
      },
      "execution_count": null,
      "outputs": []
    },
    {
      "cell_type": "code",
      "source": [
        "# 23) What are the challenges associated with memory management in Python ?\n",
        "\n",
        "# --> Circular references, memory leaks from uncollected objects, and performance trade-offs."
      ],
      "metadata": {
        "id": "7xIBoC8kuBuj"
      },
      "execution_count": null,
      "outputs": []
    },
    {
      "cell_type": "code",
      "source": [
        "# 24) How do you raise an exception manually in Python ?\n",
        "\n",
        "# --> raise ValueError(\"Invalid input\")"
      ],
      "metadata": {
        "id": "ERu3w_xhuI_9"
      },
      "execution_count": null,
      "outputs": []
    },
    {
      "cell_type": "code",
      "source": [
        "# 25) Why is it important to use multithreading in certain applications ?\n",
        "\n",
        "# --> It improves performance for I/O-bound tasks (e.g., web scraping, file operations) by doing multiple things concurrently."
      ],
      "metadata": {
        "id": "Pyg9HdF9ucGg"
      },
      "execution_count": null,
      "outputs": []
    },
    {
      "cell_type": "markdown",
      "source": [
        "**Practical Questions**"
      ],
      "metadata": {
        "id": "JUynXXDMuiYh"
      }
    },
    {
      "cell_type": "code",
      "source": [
        "# 1) How can you open a file for writing in Python and write a string to it ?\n",
        "\n",
        "with open('example.txt', 'w') as file:\n",
        "    file.write(\"Hello, world!\")\n",
        "\n",
        "with open('example.txt', 'r') as f:\n",
        "    print(f.read())\n"
      ],
      "metadata": {
        "colab": {
          "base_uri": "https://localhost:8080/"
        },
        "id": "WGIk4E_Gug_T",
        "outputId": "db692e3e-3a36-442d-f53c-0c68462e49ae"
      },
      "execution_count": null,
      "outputs": [
        {
          "output_type": "stream",
          "name": "stdout",
          "text": [
            "Hello, world!\n"
          ]
        }
      ]
    },
    {
      "cell_type": "code",
      "source": [
        "# 2) Write a Python program to read the contents of a file and print each line.\n",
        "\n",
        "with open('example.txt', 'r') as file:\n",
        "    for line in file:\n",
        "        print(line.strip())"
      ],
      "metadata": {
        "colab": {
          "base_uri": "https://localhost:8080/"
        },
        "id": "oco3vGSAwlgz",
        "outputId": "f42d0d0d-111d-432b-cc53-f9fc603d1a8d"
      },
      "execution_count": null,
      "outputs": [
        {
          "output_type": "stream",
          "name": "stdout",
          "text": [
            "Hello, world!\n"
          ]
        }
      ]
    },
    {
      "cell_type": "code",
      "source": [
        "# 3) How would you handle a case where the file doesn't exist while trying to open it for reading ?\n",
        "\n",
        "try:\n",
        "    with open('nonexistent.txt', 'r') as file:\n",
        "        content = file.read()\n",
        "except FileNotFoundError:\n",
        "    print(\"File does not exist.\")"
      ],
      "metadata": {
        "colab": {
          "base_uri": "https://localhost:8080/"
        },
        "id": "6Kfiu9Ibwu2E",
        "outputId": "3ae2838a-25a1-4721-ec89-fdea84e8f016"
      },
      "execution_count": null,
      "outputs": [
        {
          "output_type": "stream",
          "name": "stdout",
          "text": [
            "File does not exist.\n"
          ]
        }
      ]
    },
    {
      "cell_type": "code",
      "source": [
        "# 4) Write a Python script that reads from one file and writes its content to another file.\n",
        "\n",
        "with open('example.txt', 'r') as source, open('copy.txt', 'w') as dest:\n",
        "    for line in source:\n",
        "        dest.write(line)\n",
        "\n",
        "with open('copy.txt', 'r') as f:\n",
        "    print(f.read())"
      ],
      "metadata": {
        "colab": {
          "base_uri": "https://localhost:8080/"
        },
        "id": "Fuzhkh5Rw30a",
        "outputId": "efeca0f2-a19b-4cf7-b5d8-5bbbea3d72fc"
      },
      "execution_count": null,
      "outputs": [
        {
          "output_type": "stream",
          "name": "stdout",
          "text": [
            "Hello, world!\n"
          ]
        }
      ]
    },
    {
      "cell_type": "code",
      "source": [
        "# 5) How would you catch and handle division by zero error in Python ?\n",
        "\n",
        "try:\n",
        "    result = 10 / 0\n",
        "except ZeroDivisionError:\n",
        "    print(\"Cannot divide by zero!\")"
      ],
      "metadata": {
        "colab": {
          "base_uri": "https://localhost:8080/"
        },
        "id": "pmw-bmyCw_3n",
        "outputId": "76f23a1d-3cd5-4f37-d837-74a99cc28321"
      },
      "execution_count": null,
      "outputs": [
        {
          "output_type": "stream",
          "name": "stdout",
          "text": [
            "Cannot divide by zero!\n"
          ]
        }
      ]
    },
    {
      "cell_type": "code",
      "source": [
        "# 6) Write a Python program that logs an error message to a log file when a division by zero exception occurs.\n",
        "\n",
        "import logging\n",
        "\n",
        "logger = logging.getLogger()\n",
        "logger.setLevel(logging.ERROR)\n",
        "\n",
        "fh = logging.FileHandler('error.log')\n",
        "fh.setLevel(logging.ERROR)\n",
        "\n",
        "formatter = logging.Formatter('%(asctime)s %(levelname)s: %(message)s')\n",
        "fh.setFormatter(formatter)\n",
        "\n",
        "logger.addHandler(fh)\n",
        "\n",
        "try:\n",
        "    result = 10 / 0\n",
        "except ZeroDivisionError as e:\n",
        "    logger.error(\"Division by zero error occurred: %s\", e)\n",
        "\n",
        "for handler in logger.handlers:\n",
        "    handler.flush()\n",
        "    handler.close()\n",
        "logger.handlers.clear()\n",
        "\n",
        "try:\n",
        "    with open('error.log', 'r') as f:\n",
        "        print(f.read().strip())\n",
        "except FileNotFoundError:\n",
        "    print(\"Log file not found.\")\n",
        "\n"
      ],
      "metadata": {
        "colab": {
          "base_uri": "https://localhost:8080/"
        },
        "id": "eIq3gMfExHgE",
        "outputId": "4d09a007-3bfc-4193-853b-e068b6dc73f5"
      },
      "execution_count": null,
      "outputs": [
        {
          "output_type": "stream",
          "name": "stdout",
          "text": [
            "2025-05-15 16:50:55,457 ERROR: Division by zero error occurred: division by zero\n",
            "2025-05-15 16:51:26,341 ERROR: Division by zero error occurred: division by zero\n"
          ]
        }
      ]
    },
    {
      "cell_type": "code",
      "source": [
        "# 7) How do you log information at different levels (INFO, ERROR, WARNING) in Python using the logging module ?\n",
        "\n",
        "import logging\n",
        "\n",
        "logging.basicConfig(level=logging.DEBUG)\n",
        "\n",
        "logging.info(\"This is an info message\")\n",
        "logging.error(\"This is an error message\")\n",
        "logging.warning(\"This is a warning message\")"
      ],
      "metadata": {
        "colab": {
          "base_uri": "https://localhost:8080/"
        },
        "id": "yaydy550xbbC",
        "outputId": "f543d374-33cd-4058-e6fd-d8930dcd099f"
      },
      "execution_count": null,
      "outputs": [
        {
          "output_type": "stream",
          "name": "stderr",
          "text": [
            "ERROR:root:This is an error message\n",
            "WARNING:root:This is a warning message\n"
          ]
        }
      ]
    },
    {
      "cell_type": "code",
      "source": [
        "# 8) Write a program to handle a file opening error using exception handling.\n",
        "\n",
        "try:\n",
        "    with open('missing.txt', 'r') as f:\n",
        "        print(f.read())\n",
        "except FileNotFoundError:\n",
        "    print(\"Error: File not found.\")"
      ],
      "metadata": {
        "colab": {
          "base_uri": "https://localhost:8080/"
        },
        "id": "3GVrWs_hxiMs",
        "outputId": "6d582c96-eda5-4fc1-aac4-94d59956a59a"
      },
      "execution_count": null,
      "outputs": [
        {
          "output_type": "stream",
          "name": "stdout",
          "text": [
            "Error: File not found.\n"
          ]
        }
      ]
    },
    {
      "cell_type": "code",
      "source": [
        "# 9) How can you read a file line by line and store its content in a list in Python ?\n",
        "\n",
        "with open('example.txt', 'r') as file:\n",
        "    lines = file.readlines()\n",
        "\n",
        "lines = [line.strip() for line in lines]\n",
        "print(lines)"
      ],
      "metadata": {
        "colab": {
          "base_uri": "https://localhost:8080/"
        },
        "id": "gsaUT1zmxuxD",
        "outputId": "99311921-4466-480e-d11f-b59bff2f85ab"
      },
      "execution_count": null,
      "outputs": [
        {
          "output_type": "stream",
          "name": "stdout",
          "text": [
            "['Hello, world!']\n"
          ]
        }
      ]
    },
    {
      "cell_type": "code",
      "source": [
        "# 10) How can you append data to an existing file in Python ?\n",
        "\n",
        "with open('example.txt', 'a') as file:\n",
        "    file.write('\\nAppended line.')\n",
        "\n",
        "with open('example.txt', 'r') as f:\n",
        "    print(f.read())"
      ],
      "metadata": {
        "colab": {
          "base_uri": "https://localhost:8080/"
        },
        "id": "aSr2SHwzx1bQ",
        "outputId": "e95f8982-c9b9-4eb2-bb13-45f7a71b8364"
      },
      "execution_count": null,
      "outputs": [
        {
          "output_type": "stream",
          "name": "stdout",
          "text": [
            "Hello, world!\n",
            "Appended line.\n",
            "Appended line.\n"
          ]
        }
      ]
    },
    {
      "cell_type": "code",
      "source": [
        "# 11) Write a Python program that uses a try-except block to handle an error when attempting to access a dictionary key that doesn't exist.\n",
        "\n",
        "my_dict = {'a': 1, 'b': 2}\n",
        "\n",
        "try:\n",
        "    print(my_dict['c'])\n",
        "except KeyError:\n",
        "    print(\"Key not found!\")"
      ],
      "metadata": {
        "colab": {
          "base_uri": "https://localhost:8080/"
        },
        "id": "LiDSk2hDx8gs",
        "outputId": "bc5e9f37-1752-47bf-98df-0ba52b685b4a"
      },
      "execution_count": null,
      "outputs": [
        {
          "output_type": "stream",
          "name": "stdout",
          "text": [
            "Key not found!\n"
          ]
        }
      ]
    },
    {
      "cell_type": "code",
      "source": [
        "# 12) Write a program that demonstrates using multiple except blocks to handle different types of exceptions.\n",
        "\n",
        "try:\n",
        "    x = int(\"abc\")  # Raises ValueError\n",
        "    y = 10 / 0      # ZeroDivisionError would be next, but never reached\n",
        "except ValueError:\n",
        "    print(\"Caught a ValueError\")\n",
        "except ZeroDivisionError:\n",
        "    print(\"Caught a ZeroDivisionError\")"
      ],
      "metadata": {
        "colab": {
          "base_uri": "https://localhost:8080/"
        },
        "id": "5SNpYaZayF7b",
        "outputId": "22e8851d-fe00-4018-f498-0344b75687be"
      },
      "execution_count": null,
      "outputs": [
        {
          "output_type": "stream",
          "name": "stdout",
          "text": [
            "Caught a ValueError\n"
          ]
        }
      ]
    },
    {
      "cell_type": "code",
      "source": [
        "# 13) How would you check if a file exists before attempting to read it in Python ?\n",
        "\n",
        "import os\n",
        "\n",
        "if os.path.exists('example.txt'):\n",
        "    with open('example.txt', 'r') as file:\n",
        "        print(file.read())\n",
        "else:\n",
        "    print(\"File does not exist.\")"
      ],
      "metadata": {
        "colab": {
          "base_uri": "https://localhost:8080/"
        },
        "id": "Tm2PXXdayMJD",
        "outputId": "e259855f-78bf-48b4-d7ec-f10ba845653d"
      },
      "execution_count": null,
      "outputs": [
        {
          "output_type": "stream",
          "name": "stdout",
          "text": [
            "Hello, world!\n",
            "Appended line.\n",
            "Appended line.\n"
          ]
        }
      ]
    },
    {
      "cell_type": "code",
      "source": [
        "# 14) Write a program that uses the logging module to log both informational and error messages.\n",
        "\n",
        "import logging\n",
        "\n",
        "logging.basicConfig(level=logging.INFO)\n",
        "\n",
        "logging.info(\"Informational message\")\n",
        "logging.error(\"Error message\")"
      ],
      "metadata": {
        "colab": {
          "base_uri": "https://localhost:8080/"
        },
        "id": "0M4Yr4tSyVgB",
        "outputId": "17ddc89f-72ea-4696-d936-e66d9fe02828"
      },
      "execution_count": null,
      "outputs": [
        {
          "output_type": "stream",
          "name": "stderr",
          "text": [
            "ERROR:root:Error message\n"
          ]
        }
      ]
    },
    {
      "cell_type": "code",
      "source": [
        "# 15) Write a Python program that prints the content of a file and handles the case when the file is empty.\n",
        "\n",
        "with open('empty.txt', 'w') as f:\n",
        "    pass  # create empty file\n",
        "\n",
        "with open('empty.txt', 'r') as file:\n",
        "    content = file.read()\n",
        "    if content:\n",
        "        print(content)\n",
        "    else:\n",
        "        print(\"File is empty.\")"
      ],
      "metadata": {
        "colab": {
          "base_uri": "https://localhost:8080/"
        },
        "id": "rZe4UyilydRF",
        "outputId": "ebfa12e8-2188-4d16-dd3a-5632d8e2b781"
      },
      "execution_count": null,
      "outputs": [
        {
          "output_type": "stream",
          "name": "stdout",
          "text": [
            "File is empty.\n"
          ]
        }
      ]
    },
    {
      "cell_type": "code",
      "source": [
        "# 16) Demonstrate how to use memory profiling to check the memory usage of a small program.\n",
        "\n",
        "!pip install memory_profiler\n",
        "\n",
        "%load_ext memory_profiler\n",
        "\n",
        "def my_func():\n",
        "    a = [i for i in range(10000)]\n",
        "    return a\n",
        "\n",
        "%memit my_func()\n"
      ],
      "metadata": {
        "colab": {
          "base_uri": "https://localhost:8080/"
        },
        "id": "3MAPzzrHynC5",
        "outputId": "2595a9ef-f038-4d10-bdff-349352c5fa16"
      },
      "execution_count": null,
      "outputs": [
        {
          "output_type": "stream",
          "name": "stdout",
          "text": [
            "Requirement already satisfied: memory_profiler in /usr/local/lib/python3.11/dist-packages (0.61.0)\n",
            "Requirement already satisfied: psutil in /usr/local/lib/python3.11/dist-packages (from memory_profiler) (5.9.5)\n",
            "The memory_profiler extension is already loaded. To reload it, use:\n",
            "  %reload_ext memory_profiler\n",
            "peak memory: 117.34 MiB, increment: 0.00 MiB\n"
          ]
        }
      ]
    },
    {
      "cell_type": "code",
      "source": [
        "# 17) Write a Python program to create and write a list of numbers to a file, one number per line.\n",
        "\n",
        "numbers = [1, 2, 3, 4, 5]\n",
        "\n",
        "with open('numbers.txt', 'w') as file:\n",
        "    for num in numbers:\n",
        "        file.write(str(num) + '\\n')\n",
        "\n",
        "# Read and print content\n",
        "with open('numbers.txt', 'r') as f:\n",
        "    print(f.read().strip())"
      ],
      "metadata": {
        "colab": {
          "base_uri": "https://localhost:8080/"
        },
        "id": "hkPh7pF4zOOz",
        "outputId": "d1ecd2b0-0c0b-4cac-b087-65b5a22decaf"
      },
      "execution_count": null,
      "outputs": [
        {
          "output_type": "stream",
          "name": "stdout",
          "text": [
            "1\n",
            "2\n",
            "3\n",
            "4\n",
            "5\n"
          ]
        }
      ]
    },
    {
      "cell_type": "code",
      "source": [
        "# 18) How would you implement a basic logging setup that logs to a file with rotation after 1MB ?\n",
        "\n",
        "import logging\n",
        "from logging.handlers import RotatingFileHandler\n",
        "\n",
        "handler = RotatingFileHandler('app.log', maxBytes=1_000_000, backupCount=3)\n",
        "logging.basicConfig(handlers=[handler], level=logging.INFO)\n",
        "\n",
        "logging.info(\"This is a test log message.\")\n",
        "\n",
        "with open('app.log', 'r') as f:\n",
        "    print(f.read().strip())"
      ],
      "metadata": {
        "colab": {
          "base_uri": "https://localhost:8080/"
        },
        "id": "_LYXKKwFzVwC",
        "outputId": "730169cb-b462-49e1-e40f-41bc7ce3dd24"
      },
      "execution_count": null,
      "outputs": [
        {
          "output_type": "stream",
          "name": "stdout",
          "text": [
            "INFO:root:This is a test log message.\n"
          ]
        }
      ]
    },
    {
      "cell_type": "code",
      "source": [
        "# 19) Write a program that handles both IndexError and KeyError using a try-except block.\n",
        "\n",
        "my_list = [1, 2, 3]\n",
        "my_dict = {'a': 1}\n",
        "\n",
        "try:\n",
        "    print(my_list[5])\n",
        "    print(my_dict['b'])\n",
        "except IndexError:\n",
        "    print(\"Caught an IndexError\")\n",
        "except KeyError:\n",
        "    print(\"Caught a KeyError\")"
      ],
      "metadata": {
        "colab": {
          "base_uri": "https://localhost:8080/"
        },
        "id": "m66Jj97fzoOF",
        "outputId": "1eaee9a2-38ad-4eb5-91f6-3d2b17d9ae18"
      },
      "execution_count": null,
      "outputs": [
        {
          "output_type": "stream",
          "name": "stdout",
          "text": [
            "Caught an IndexError\n"
          ]
        }
      ]
    },
    {
      "cell_type": "code",
      "source": [
        "# 20) How would you open a file and read its contents using a context manager in Python ?\n",
        "\n",
        "with open('example.txt', 'r') as file:\n",
        "    content = file.read()\n",
        "    print(content)"
      ],
      "metadata": {
        "colab": {
          "base_uri": "https://localhost:8080/"
        },
        "id": "nIlXUVejzvJb",
        "outputId": "13d3cade-e324-4c00-c9d6-17c9db5827fc"
      },
      "execution_count": null,
      "outputs": [
        {
          "output_type": "stream",
          "name": "stdout",
          "text": [
            "Hello, world!\n",
            "Appended line.\n",
            "Appended line.\n"
          ]
        }
      ]
    },
    {
      "cell_type": "code",
      "source": [
        "# 21)  Write a Python program that reads a file and prints the number of occurrences of a specific word.\n",
        "\n",
        "word = \"hello\"\n",
        "count = 0\n",
        "\n",
        "with open('example.txt', 'r') as file:\n",
        "    for line in file:\n",
        "        count += line.lower().split().count(word.lower())\n",
        "\n",
        "print(f\"The word '{word}' occurred {count} times.\")"
      ],
      "metadata": {
        "colab": {
          "base_uri": "https://localhost:8080/"
        },
        "id": "fGjGkW93z27j",
        "outputId": "ce7e2d98-2d6d-4932-870b-45effa9bc7d3"
      },
      "execution_count": null,
      "outputs": [
        {
          "output_type": "stream",
          "name": "stdout",
          "text": [
            "The word 'hello' occurred 0 times.\n"
          ]
        }
      ]
    },
    {
      "cell_type": "code",
      "source": [
        "# 22) How can you check if a file is empty before attempting to read its contents ?\n",
        "\n",
        "import os\n",
        "\n",
        "if os.path.exists('example.txt') and os.path.getsize('example.txt') > 0:\n",
        "    with open('example.txt', 'r') as file:\n",
        "        print(file.read())\n",
        "else:\n",
        "    print(\"File is empty or does not exist.\")"
      ],
      "metadata": {
        "colab": {
          "base_uri": "https://localhost:8080/"
        },
        "id": "aIIbpCNmz8P4",
        "outputId": "7eeb61b9-eebd-4910-94ab-0ca4a85f45b2"
      },
      "execution_count": null,
      "outputs": [
        {
          "output_type": "stream",
          "name": "stdout",
          "text": [
            "Hello, world!\n",
            "Appended line.\n",
            "Appended line.\n"
          ]
        }
      ]
    },
    {
      "cell_type": "code",
      "source": [
        "# 23) Write a Python program that writes to a log file when an error occurs during file handling.\n",
        "\n",
        "import logging\n",
        "import time\n",
        "\n",
        "logging.basicConfig(filename='file_errors.log', level=logging.ERROR,\n",
        "                    format='%(asctime)s %(levelname)s:%(message)s')\n",
        "\n",
        "try:\n",
        "\n",
        "    with open('missing.txt', 'r') as f:\n",
        "        data = f.read()\n",
        "except Exception as e:\n",
        "    logging.error(\"Error reading file: %s\", e, exc_info=True)\n",
        "\n",
        "for handler in logging.root.handlers[:]:\n",
        "    handler.flush()\n",
        "    handler.close()\n",
        "    logging.root.removeHandler(handler)\n",
        "\n",
        "time.sleep(0.1)\n",
        "\n",
        "try:\n",
        "    with open('file_errors.log', 'r') as log_file:\n",
        "        print(log_file.read().strip())\n",
        "except FileNotFoundError:\n",
        "    print(\"Log file not found. No errors were logged.\")\n"
      ],
      "metadata": {
        "colab": {
          "base_uri": "https://localhost:8080/"
        },
        "id": "Rv86U-PH0DNZ",
        "outputId": "4951442d-b851-4405-946a-45d6f7b797a4"
      },
      "execution_count": null,
      "outputs": [
        {
          "output_type": "stream",
          "name": "stdout",
          "text": [
            "2025-05-15 16:45:10,527 ERROR:Error reading file: [Errno 2] No such file or directory: 'missing.txt'\n",
            "Traceback (most recent call last):\n",
            "  File \"<ipython-input-90-1652cbd780a5>\", line 11, in <cell line: 0>\n",
            "    with open('missing.txt', 'r') as f:\n",
            "         ^^^^^^^^^^^^^^^^^^^^^^^^\n",
            "FileNotFoundError: [Errno 2] No such file or directory: 'missing.txt'\n"
          ]
        }
      ]
    }
  ]
}